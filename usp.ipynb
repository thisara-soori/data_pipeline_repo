{
  "cells": [
    {
      "cell_type": "code",
      "execution_count": 122,
      "metadata": {
        
      },
      "outputs": [
        
      ],
      "source": [
        "import os\n",
        "\n",
        "athena_db = 'trivago'\n",
        "s3_bucket = os.environ['BUCKET']\n",
        "date = '2019-08-01'"
      ]
    },
    {
      "cell_type": "code",
      "execution_count": 123,
      "metadata": {
        
      },
      "outputs": [
        
      ],
      "source": [
        "import awswrangler\n",
        "session = awswrangler.Session()"
      ]
    },
    {
      "cell_type": "code",
      "execution_count": 124,
      "metadata": {
        
      },
      "outputs": [
        
      ],
      "source": [
        "import pandas"
      ]
    },
    {
      "cell_type": "markdown",
      "metadata": {
        
      },
      "source": [
        "# Get USPs per accommodation and add destination_id"
      ]
    },
    {
      "cell_type": "code",
      "execution_count": 125,
      "metadata": {
        
      },
      "outputs": [
        
      ],
      "source": [
        "def get_destination_ids(accommodation_ids):\n",
        "    with open('query.sql') as f:\n",
        "        df = session.pandas.read_sql_athena(\n",
        "            sql=f.read().format(date=repr(date)),\n",
        "            database=athena_db\n",
        "        )\n",
        "        \n",
        "    return df[df.accommodation_id.isin(accommodation_ids)]"
      ]
    },
    {
      "cell_type": "code",
      "execution_count": 126,
      "metadata": {
        
      },
      "outputs": [
        
      ],
      "source": [
        "def get_filtered_usps():\n",
        "    df = session.pandas.read_sql_athena(\n",
        "        sql=\"SELECT * FROM unique_selling_points WHERE date = {date}\".format(date=repr(date)),\n",
        "        database=athena_db\n",
        "    )\n",
        "    \n",
        "    return df"
      ]
    },
    {
      "cell_type": "code",
      "execution_count": 127,
      "metadata": {
        
      },
      "outputs": [
        
      ],
      "source": [
        "usp_df = get_filtered_usps()\n",
        "destination_ids = get_destination_ids(usp_df[\"accommodation_id\"].values)\n",
        "usp_df = usp_df.merge(destination_ids, how=\"left\", on=\"accommodation_id\")"
      ]
    },
    {
      "cell_type": "code",
      "execution_count": 128,
      "metadata": {
        "scrolled": true
      },
      "outputs": [
        {
          "data": {
            "text/html": [
              "<div>\n",
              "<style scoped>\n",
              "    .dataframe tbody tr th:only-of-type {\n",
              "        vertical-align: middle;\n",
              "    }\n",
              "\n",
              "    .dataframe tbody tr th {\n",
              "        vertical-align: top;\n",
              "    }\n",
              "\n",
              "    .dataframe thead th {\n",
              "        text-align: right;\n",
              "    }\n",
              "</style>\n",
              "<table border=\"1\" class=\"dataframe\">\n",
              "  <thead>\n",
              "    <tr style=\"text-align: right;\">\n",
              "      <th></th>\n",
              "      <th>accommodation_id</th>\n",
              "      <th>accommodation_ns</th>\n",
              "      <th>usp</th>\n",
              "      <th>date</th>\n",
              "      <th>destination_id</th>\n",
              "    </tr>\n",
              "  </thead>\n",
              "  <tbody>\n",
              "    <tr>\n",
              "      <th>66660</th>\n",
              "      <td>5812</td>\n",
              "      <td>100</td>\n",
              "      <td>Business hotel</td>\n",
              "      <td>2019-08-01</td>\n",
              "      <td>8181</td>\n",
              "    </tr>\n",
              "    <tr>\n",
              "      <th>99415</th>\n",
              "      <td>199414</td>\n",
              "      <td>100</td>\n",
              "      <td>Pet friendly hotel</td>\n",
              "      <td>2019-08-01</td>\n",
              "      <td>NaN</td>\n",
              "    </tr>\n",
              "    <tr>\n",
              "      <th>99961</th>\n",
              "      <td>161163</td>\n",
              "      <td>100</td>\n",
              "      <td>Breakfast</td>\n",
              "      <td>2019-08-01</td>\n",
              "      <td>NaN</td>\n",
              "    </tr>\n",
              "    <tr>\n",
              "      <th>169679</th>\n",
              "      <td>62828</td>\n",
              "      <td>100</td>\n",
              "      <td>Food &amp; drinks</td>\n",
              "      <td>2019-08-01</td>\n",
              "      <td>NaN</td>\n",
              "    </tr>\n",
              "    <tr>\n",
              "      <th>253851</th>\n",
              "      <td>148466</td>\n",
              "      <td>100</td>\n",
              "      <td>Pet friendly hotel</td>\n",
              "      <td>2019-08-01</td>\n",
              "      <td>NaN</td>\n",
              "    </tr>\n",
              "  </tbody>\n",
              "</table>\n",
              "</div>"
            ],
            "text/plain": [
              "        accommodation_id  accommodation_ns                 usp        date  \\\n",
              "66660               5812               100      Business hotel  2019-08-01   \n",
              "99415             199414               100  Pet friendly hotel  2019-08-01   \n",
              "99961             161163               100           Breakfast  2019-08-01   \n",
              "169679             62828               100       Food & drinks  2019-08-01   \n",
              "253851            148466               100  Pet friendly hotel  2019-08-01   \n",
              "\n",
              "        destination_id  \n",
              "66660             8181  \n",
              "99415              NaN  \n",
              "99961              NaN  \n",
              "169679             NaN  \n",
              "253851             NaN  "
            ]
          },
          "execution_count": 128,
          "metadata": {
            
          },
          "output_type": "execute_result"
        }
      ],
      "source": [
        "usp_df.sample(5)"
      ]
    },
    {
      "cell_type": "code",
      "execution_count": 129,
      "metadata": {
        
      },
      "outputs": [
        {
          "data": {
            "text/plain": [
              "usp\n",
              "Business hotel        2410\n",
              "Sleeping comfort      2323\n",
              "Pet friendly hotel    2291\n",
              "sea_view              2273\n",
              "Room quality          1870\n",
              "                      ... \n",
              "sunday_brunch           10\n",
              "live_music               9\n",
              "skyline_view             8\n",
              "japanese_style           7\n",
              "blackout_curtains        3\n",
              "Name: destination_id, Length: 63, dtype: int64"
            ]
          },
          "execution_count": 129,
          "metadata": {
            
          },
          "output_type": "execute_result"
        }
      ],
      "source": [
        "usp_df.groupby(\"usp\")['destination_id'].nunique().sort_values(ascending=False)"
      ]
    },
    {
      "cell_type": "code",
      "execution_count": 130,
      "metadata": {
        
      },
      "outputs": [
        {
          "data": {
            "text/plain": [
              "['s3://thisara-test-athenabucket/usp/output/date=2019-08-01/6f55dc8b1fed437cafbf83a6ad7a54a1.parquet',\n",
              " 's3://thisara-test-athenabucket/usp/output/date=2019-08-01/6334bec9765948f0b99e38c9dadf7b01.parquet']"
            ]
          },
          "execution_count": 130,
          "metadata": {
            
          },
          "output_type": "execute_result"
        }
      ],
      "source": [
        "session.pandas.to_parquet(\n",
        "    dataframe=usp_df,\n",
        "    path=f\"s3://{s3_bucket}/usp/output\",\n",
        "    partition_cols=[\"date\"],\n",
        ")"
      ]
    }
  ],
  "metadata": {
    "kernelspec": {
      "display_name": "Python 3",
      "language": "python",
      "name": "python3"
    },
    "language_info": {
      "codemirror_mode": {
        "name": "ipython",
        "version": 3
      },
      "file_extension": ".py",
      "mimetype": "text/x-python",
      "name": "python",
      "nbconvert_exporter": "python",
      "pygments_lexer": "ipython3",
      "version": "3.7.3"
    },
    "toc": {
      "nav_menu": {
        
      },
      "number_sections": true,
      "sideBar": true,
      "skip_h1_title": false,
      "toc_cell": false,
      "toc_position": {
        
      },
      "toc_section_display": "block",
      "toc_window_display": false
    }
  },
  "nbformat": 4,
  "nbformat_minor": 2
}
